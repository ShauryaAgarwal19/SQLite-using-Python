{
 "cells": [
  {
   "cell_type": "code",
   "execution_count": 2,
   "metadata": {},
   "outputs": [
    {
     "name": "stdout",
     "output_type": "stream",
     "text": [
      "Do You want to input more entries (y/n) : y\n",
      "Enter Title : bdc.ajkbdv\n",
      "Enter Author : vbsjdk.b\n",
      "Enter Price : 1493\n",
      "Do You want to input more entries (y/n) : n\n",
      "1 ljjbsv vnsvn 643.0\n",
      "6 vbjvk bvk.sv 2431.0\n",
      "7 nfv/fn vnjdnb 6649.0\n",
      "8 vjbfjfvb vbkjsbv 9985.0\n",
      "9 kvn/fs vjsv 54562.0\n",
      "10 bdc.ajkbdv vbsjdk.b 1493.0\n"
     ]
    }
   ],
   "source": [
    "import sqlite3\n",
    "\n",
    "conn = sqlite3.connect(\"myTable.db\") \n",
    "\n",
    "c = conn.cursor() \n",
    "\n",
    "sql_command = '''CREATE TABLE IF NOT EXISTS myTable (  \n",
    "                Book_id INTEGER NOT NULL PRIMARY KEY,\n",
    "                Title TEXT NOT NULL,\n",
    "                Author TEXT NOT NULL,\n",
    "                Price REAL NOT NULL);'''\n",
    "c.execute(sql_command)\n",
    "\n",
    "x = c.execute(\"Select * from myTable\").fetchall()[-1]\n",
    "y = list(x)[0]\n",
    "\n",
    "bookid  = y\n",
    "cond = True\n",
    "\n",
    "ch = input(\"Do You want to input more entries (y/n) : \")\n",
    "if ch.lower() == 'n':\n",
    "    cond = False\n",
    "else:\n",
    "    bookid += 1\n",
    "\n",
    "while cond:\n",
    "    title = input(\"Enter Title : \")\n",
    "    author = input(\"Enter Author : \")\n",
    "    price = int(input(\"Enter Price : \"))\n",
    "    \n",
    "    c.execute(\"INSERT INTO myTable VALUES (?, ?, ?, ?)\",(bookid,title,author,price))\n",
    "    \n",
    "    ch = input(\"Do You want to input more entries (y/n) : \")\n",
    "    if ch.lower() == 'n':\n",
    "        cond = False\n",
    "    else:\n",
    "        bookid += 1\n",
    "\n",
    "alll = c.execute(\"SELECT * FROM myTable\")\n",
    "\n",
    "for row in alll:\n",
    "    print(*row)\n",
    "\n",
    "conn.commit()\n",
    "\n",
    "conn.close()"
   ]
  },
  {
   "cell_type": "code",
   "execution_count": null,
   "metadata": {},
   "outputs": [],
   "source": []
  }
 ],
 "metadata": {
  "kernelspec": {
   "display_name": "Python 3",
   "language": "python",
   "name": "python3"
  },
  "language_info": {
   "codemirror_mode": {
    "name": "ipython",
    "version": 3
   },
   "file_extension": ".py",
   "mimetype": "text/x-python",
   "name": "python",
   "nbconvert_exporter": "python",
   "pygments_lexer": "ipython3",
   "version": "3.7.7"
  }
 },
 "nbformat": 4,
 "nbformat_minor": 4
}
