{
 "cells": [
  {
   "cell_type": "code",
   "execution_count": 2,
   "metadata": {},
   "outputs": [
    {
     "name": "stdout",
     "output_type": "stream",
     "text": [
      "1 ljjbsv vnsvn 643.0\n",
      "6 vbjvk bvk.sv 2431.0\n",
      "7 nfv/fn vnjdnb 6649.0\n",
      "8 vjbfjfvb vbkjsbv 9985.0\n",
      "9 kvn/fs vjsv 54562.0\n",
      "10 bdc.ajkbdv vbsjdk.b 1493.0\n",
      "\n",
      "\n",
      "\n",
      "Book Title : 'ljjbsv'\n",
      "1 ljjbsv vnsvn 643.0\n",
      "No. of copies : 5\n",
      "Add more books (y/n) : y\n",
      "\n",
      "\n",
      "Book Title : 'vjbfjfvb'\n",
      "8 vjbfjfvb vbkjsbv 9985.0\n",
      "No. of copies : 1\n",
      "Add more books (y/n) : n\n",
      "Total Cost :  13200.0\n",
      "\n",
      "\n"
     ]
    }
   ],
   "source": [
    "import sqlite3\n",
    "\n",
    "conn = sqlite3.connect(\"myTable.db\") \n",
    "\n",
    "c = conn.cursor() \n",
    "\n",
    "alll = c.execute(\"SELECT * FROM myTable\")\n",
    "\n",
    "for row in alll:\n",
    "    print(*row)\n",
    "\n",
    "print(\"\\n\")\n",
    "cond = True\n",
    "tp = 0\n",
    "while cond:\n",
    "\n",
    "    search_title = str(input(\"Book Title : \"))\n",
    "    try:\n",
    "        all_title = c.execute(\"SELECT * FROM myTable WHERE Title = {}\".format(search_title))\n",
    "\n",
    "        for row in all_title:\n",
    "            print(*row)\n",
    "            p = row[3]\n",
    "\n",
    "        n = int(input(\"No. of copies : \"))\n",
    "        tp += p*n\n",
    "        ch = input(\"Add more books (y/n) : \")\n",
    "        if ch.lower() == 'n':\n",
    "            cond = False\n",
    "            print(\"\\nTotal Cost : \",tp)\n",
    "        print(\"\\n\")\n",
    "\n",
    "    except:\n",
    "        print(\"Not Available\")\n",
    "        ch = input(\"Add more books (y/n) : \")\n",
    "        if ch.lower() == 'n':\n",
    "            cond = False\n",
    "            print(\"\\nTotal Cost : \",tp)\n",
    "        print(\"\\n\")\n",
    "\n",
    "conn.commit()\n",
    "conn.close()"
   ]
  },
  {
   "cell_type": "code",
   "execution_count": null,
   "metadata": {},
   "outputs": [],
   "source": []
  }
 ],
 "metadata": {
  "kernelspec": {
   "display_name": "Python 3",
   "language": "python",
   "name": "python3"
  },
  "language_info": {
   "codemirror_mode": {
    "name": "ipython",
    "version": 3
   },
   "file_extension": ".py",
   "mimetype": "text/x-python",
   "name": "python",
   "nbconvert_exporter": "python",
   "pygments_lexer": "ipython3",
   "version": "3.7.7"
  }
 },
 "nbformat": 4,
 "nbformat_minor": 4
}
